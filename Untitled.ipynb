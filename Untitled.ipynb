{
 "cells": [
  {
   "cell_type": "code",
   "execution_count": 29,
   "metadata": {},
   "outputs": [
    {
     "data": {
      "text/plain": [
       "INCIDENTNEIGHBORHOOD     \n",
       "Central Business District    3327\n",
       "South Side Flats             2858\n",
       "Carrick                      1966\n",
       "East Allegheny               1781\n",
       "Homewood South               1747\n",
       "                             ... \n",
       "Regent Square                  28\n",
       "Central Northside              23\n",
       "Mt. Oliver Boro                18\n",
       "Troy Hill-Herrs Island          6\n",
       "Mt. Oliver Neighborhood         2\n",
       "Length: 98, dtype: int64"
      ]
     },
     "execution_count": 29,
     "metadata": {},
     "output_type": "execute_result"
    }
   ],
   "source": [
    "import pandas as pd\n",
    "df = pd.read_csv(\"Police Arrests.csv\")\n",
    "df = df.drop([\"PK\",\"CCR\",\"RACE\",\"ARRESTTIME\",\"ARRESTLOCATION\",\"INCIDENTZONE\",\"INCIDENTTRACT\",\"COUNCIL_DISTRICT\",\"PUBLIC_WORKS_DIVISION\",\"X\",\"Y\"],axis=1)\n",
    "df.head(10)\n",
    "modified = df.drop([\"AGE\",\"GENDER\",\"OFFENSES\",\"INCIDENTLOCATION\"],axis=1)\n",
    "modified.value_counts()"
   ]
  },
  {
   "cell_type": "code",
   "execution_count": 25,
   "metadata": {},
   "outputs": [
    {
     "data": {
      "text/plain": [
       "INCIDENTNEIGHBORHOOD     \n",
       "Central Business District    3327\n",
       "South Side Flats             2858\n",
       "Carrick                      1966\n",
       "East Allegheny               1781\n",
       "Homewood South               1747\n",
       "                             ... \n",
       "Regent Square                  28\n",
       "Central Northside              23\n",
       "Mt. Oliver Boro                18\n",
       "Troy Hill-Herrs Island          6\n",
       "Mt. Oliver Neighborhood         2\n",
       "Length: 98, dtype: int64"
      ]
     },
     "execution_count": 25,
     "metadata": {},
     "output_type": "execute_result"
    }
   ],
   "source": [
    "modified = df.drop([\"AGE\",\"GENDER\",\"OFFENSES\",\"INCIDENTLOCATION\"],axis=1)\n",
    "print(modified.value_counts())"
   ]
  },
  {
   "cell_type": "code",
   "execution_count": null,
   "metadata": {},
   "outputs": [],
   "source": []
  }
 ],
 "metadata": {
  "kernelspec": {
   "display_name": "Python 3",
   "language": "python",
   "name": "python3"
  },
  "language_info": {
   "codemirror_mode": {
    "name": "ipython",
    "version": 3
   },
   "file_extension": ".py",
   "mimetype": "text/x-python",
   "name": "python",
   "nbconvert_exporter": "python",
   "pygments_lexer": "ipython3",
   "version": "3.8.3"
  }
 },
 "nbformat": 4,
 "nbformat_minor": 4
}
