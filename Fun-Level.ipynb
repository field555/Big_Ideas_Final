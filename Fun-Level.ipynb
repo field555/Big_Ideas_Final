{
 "cells": [
  {
   "cell_type": "markdown",
   "metadata": {},
   "source": [
    "# Submetric 3: Fun-Level for Kids\n",
    "Madison Field\n",
    "## Finding the Number of Playgrounds in each Neighborhood\n",
    "The following code reads through the Pittsburgh Playgrounds dataset as a tsv file and uses it to load a dictionary. In this dictionary, the keys are the neighborhood names, and their corresponding values are the number of playgrounds in that neighborhood."
   ]
  },
  {
   "cell_type": "code",
   "execution_count": 1,
   "metadata": {},
   "outputs": [],
   "source": [
    "import pandas as pd\n",
    "# create dataframe for Playgrounds dataset\n",
    "play = pd.read_csv(\"Playgrounds.tsv\", sep=\"\\t\")"
   ]
  },
  {
   "cell_type": "code",
   "execution_count": 3,
   "metadata": {},
   "outputs": [
    {
     "name": "stdout",
     "output_type": "stream",
     "text": [
      "Beechview : 5\n",
      "Crawford-Roberts : 3\n",
      "Central Northside : 2\n",
      "Bedford Dwellings : 1\n",
      "South Side Slopes : 5\n",
      "South Side Flats : 2\n",
      "Lower Lawrenceville : 1\n",
      "Banksville : 1\n",
      "Homewood North : 1\n",
      "Bon Air : 1\n",
      "Central Oakland : 1\n",
      "Brighton Heights : 2\n",
      "Brookline : 2\n",
      "Hazelwood : 3\n",
      "Squirrel Hill South : 8\n",
      "Spring Garden : 1\n",
      "Lincoln-Lemington-Belmar : 2\n",
      "Windgap : 1\n",
      "Troy Hill : 2\n",
      "Westwood : 1\n",
      "Perry South : 1\n",
      "Homewood West : 1\n",
      "Allegheny Center : 4\n",
      "Strip District : 1\n",
      "Stanton Heights : 1\n",
      "Crafton Heights : 2\n",
      "West Oakland : 1\n",
      "East Carnegie : 1\n",
      "Duquesne Heights : 1\n",
      "East Liberty : 3\n",
      "Esplen : 1\n",
      "Fairywood : 1\n",
      "Highland Park : 4\n",
      "Upper Lawrenceville : 3\n",
      "Fineview : 1\n",
      "Regent Square : 1\n",
      "Garfield : 2\n",
      "Greenfield : 2\n",
      "South Oakland : 3\n",
      "Allentown : 1\n",
      "Hays : 1\n",
      "Elliott : 3\n",
      "Morningside : 2\n",
      "Terrace Village : 1\n",
      "Larimer : 1\n",
      "Carrick : 3\n",
      "Central Lawrenceville : 1\n",
      "Lincoln Place : 2\n",
      "Manchester : 2\n",
      "Marshall-Shadeland : 2\n",
      "Sheraden : 4\n",
      "Beltzhoover : 4\n",
      "Shadyside : 1\n",
      "Mount Washington : 3\n",
      "Oakwood : 1\n",
      "Bloomfield : 2\n",
      "Perry North : 1\n",
      "Upper Hill : 1\n",
      "New Homestead : 1\n",
      "Spring Hill-City View : 1\n",
      "Swisshelm Park : 1\n",
      "Bluff : 1\n",
      "Middle Hill : 1\n",
      "West End : 1\n",
      "Polish Hill : 1\n",
      "Point Breeze North : 1\n",
      "Squirrel Hill North : 1\n",
      "East Allegheny : 1\n"
     ]
    }
   ],
   "source": [
    "# create a dictionary to keep track of how many playgrounds are in each Pittsburgh neighborhood\n",
    "mydict = {}\n",
    "\n",
    "# iterate through rows of the dataframe\n",
    "for row in range(play[play.columns[0]].count()):\n",
    "    \n",
    "    # if this neighborhood is already in the dictionary, increment its value by 1\n",
    "    try:\n",
    "        x = mydict[play.iat[row, 7]]\n",
    "        mydict[play.iat[row, 7]] = mydict[play.iat[row, 7]] + 1\n",
    "    \n",
    "    # if not, add it to the dictionary with a value of 1\n",
    "    except:\n",
    "        mydict[play.iat[row, 7]] = 1\n",
    "\n",
    "# Print the total number of playgrounds in each neighborhood\n",
    "for i in mydict:\n",
    "    print(i, \":\", mydict[i])"
   ]
  },
  {
   "cell_type": "markdown",
   "metadata": {},
   "source": [
    "## Data Visualization: Top 7 Neighborhoods\n",
    "The following code creates a new dataframe with 2 columns: Neighborhood and # of Playgrounds."
   ]
  },
  {
   "cell_type": "code",
   "execution_count": 18,
   "metadata": {},
   "outputs": [
    {
     "data": {
      "text/plain": [
       "<matplotlib.axes._subplots.AxesSubplot at 0x7f8379a3c4f0>"
      ]
     },
     "execution_count": 18,
     "metadata": {},
     "output_type": "execute_result"
    },
    {
     "data": {
      "image/png": "[encoded data removed]",
      "text/plain": [
       "<Figure size 432x288 with 1 Axes>"
      ]
     },
     "metadata": {
      "needs_background": "light"
     },
     "output_type": "display_data"
    }
   ],
   "source": [
    "# Create a new dict where neighborhood names are grouped together and the playground #s are grouped together.\n",
    "# Add only neighborhoods with > 3 parks\n",
    "data = {\n",
    "    \"Neighborhood\": [],\n",
    "    \"# of Playgrounds\": []\n",
    "}\n",
    "for i in mydict:\n",
    "    if mydict[i] > 3:\n",
    "        data[\"Neighborhood\"].append(i)\n",
    "        data[\"# of Playgrounds\"].append(mydict[i])\n",
    "\n",
    "# Create a new dataframe with this dictionary\n",
    "df = pd.DataFrame(data)\n",
    "\n",
    "# Plot the dictionary as a bar graph\n",
    "df.plot(kind = 'bar', x = 'Neighborhood', y = '# of Playgrounds')"
   ]
  },
  {
   "cell_type": "markdown",
   "metadata": {},
   "source": [
    "## Accounting for Neighborhood Population\n",
    "Since these neighborhoods are all different sizes, it's possible that the neighborhood with the most playgrounds is only that way because its population is higher. To account for this, I researched the population in each of the top 7 neighborhoods to see which has the most impressive **playground : population ratio**. The populations are:\n",
    "* Beechview: 7,974\n",
    "* South Side Slopes: 4,423\n",
    "* Squirrel Hill South: 15,110\n",
    "* Allegheny Center: 933\n",
    "* Highland Park: 6,395\n",
    "* Sheraden: 5,299\n",
    "* Beltzhoover: 1,925\n",
    "\n",
    "The following code calculates the playground:population ratio for each neighborhood, and replots the bar graph accordingly."
   ]
  },
  {
   "cell_type": "code",
   "execution_count": 22,
   "metadata": {},
   "outputs": [
    {
     "data": {
      "text/plain": [
       "<matplotlib.axes._subplots.AxesSubplot at 0x7f8379a2aee0>"
      ]
     },
     "execution_count": 22,
     "metadata": {},
     "output_type": "execute_result"
    },
    {
     "data": {
      "image/png": "[encoded data removed]",
      "text/plain": [
       "<Figure size 432x288 with 1 Axes>"
      ]
     },
     "metadata": {
      "needs_background": "light"
     },
     "output_type": "display_data"
    }
   ],
   "source": [
    "pop = [7974, 4423, 15110, 933, 6395, 5299, 1925]\n",
    "ratio = []\n",
    "for i in range(7):\n",
    "    ratio.append(data[\"# of Playgrounds\"][i]/pop[i])\n",
    "data2 = {\n",
    "    \"Neighborhood\": [],\n",
    "    \"Playground:Population ratio\": ratio\n",
    "}\n",
    "data2[\"Neighborhood\"] = data[\"Neighborhood\"]\n",
    "\n",
    "df2 = pd.DataFrame(data2)\n",
    "df2.plot(kind = 'bar', x = 'Neighborhood', y = 'Playground:Population ratio')"
   ]
  },
  {
   "cell_type": "markdown",
   "metadata": {},
   "source": [
    "## Neighborhood w/ Best Fun-Level = Allegheny Center!"
   ]
  },
  {
   "cell_type": "code",
   "execution_count": null,
   "metadata": {},
   "outputs": [],
   "source": []
  }
 ],
 "metadata": {
  "kernelspec": {
   "display_name": "Python 3",
   "language": "python",
   "name": "python3"
  },
  "language_info": {
   "codemirror_mode": {
    "name": "ipython",
    "version": 3
   },
   "file_extension": ".py",
   "mimetype": "text/x-python",
   "name": "python",
   "nbconvert_exporter": "python",
   "pygments_lexer": "ipython3",
   "version": "3.8.3"
  }
 },
 "nbformat": 4,
 "nbformat_minor": 4
}
