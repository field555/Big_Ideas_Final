{
 "cells": [
  {
   "cell_type": "markdown",
   "metadata": {},
   "source": [
    "# Fun-Level for Kids\n",
    "## Number of Playgrounds in each Neighborhood\n",
    "The following code reads through the Pittsburgh Playgrounds dataset as a tsv file and uses it to load a dictionary. In this dictionary, the keys are the neighborhood names, and their corresponding values are the number of playgrounds in that neighborhood."
   ]
  },
  {
   "cell_type": "code",
   "execution_count": 1,
   "metadata": {},
   "outputs": [],
   "source": [
    "import pandas as pd\n",
    "# create dataframe for Playgrounds dataset\n",
    "play = pd.read_csv(\"Playgrounds.tsv\", sep=\"\\t\")"
   ]
  },
  {
   "cell_type": "code",
   "execution_count": 3,
   "metadata": {},
   "outputs": [
    {
     "name": "stdout",
     "output_type": "stream",
     "text": [
      "Beechview : 5\n",
      "Crawford-Roberts : 3\n",
      "Central Northside : 2\n",
      "Bedford Dwellings : 1\n",
      "South Side Slopes : 5\n",
      "South Side Flats : 2\n",
      "Lower Lawrenceville : 1\n",
      "Banksville : 1\n",
      "Homewood North : 1\n",
      "Bon Air : 1\n",
      "Central Oakland : 1\n",
      "Brighton Heights : 2\n",
      "Brookline : 2\n",
      "Hazelwood : 3\n",
      "Squirrel Hill South : 8\n",
      "Spring Garden : 1\n",
      "Lincoln-Lemington-Belmar : 2\n",
      "Windgap : 1\n",
      "Troy Hill : 2\n",
      "Westwood : 1\n",
      "Perry South : 1\n",
      "Homewood West : 1\n",
      "Allegheny Center : 4\n",
      "Strip District : 1\n",
      "Stanton Heights : 1\n",
      "Crafton Heights : 2\n",
      "West Oakland : 1\n",
      "East Carnegie : 1\n",
      "Duquesne Heights : 1\n",
      "East Liberty : 3\n",
      "Esplen : 1\n",
      "Fairywood : 1\n",
      "Highland Park : 4\n",
      "Upper Lawrenceville : 3\n",
      "Fineview : 1\n",
      "Regent Square : 1\n",
      "Garfield : 2\n",
      "Greenfield : 2\n",
      "South Oakland : 3\n",
      "Allentown : 1\n",
      "Hays : 1\n",
      "Elliott : 3\n",
      "Morningside : 2\n",
      "Terrace Village : 1\n",
      "Larimer : 1\n",
      "Carrick : 3\n",
      "Central Lawrenceville : 1\n",
      "Lincoln Place : 2\n",
      "Manchester : 2\n",
      "Marshall-Shadeland : 2\n",
      "Sheraden : 4\n",
      "Beltzhoover : 4\n",
      "Shadyside : 1\n",
      "Mount Washington : 3\n",
      "Oakwood : 1\n",
      "Bloomfield : 2\n",
      "Perry North : 1\n",
      "Upper Hill : 1\n",
      "New Homestead : 1\n",
      "Spring Hill-City View : 1\n",
      "Swisshelm Park : 1\n",
      "Bluff : 1\n",
      "Middle Hill : 1\n",
      "West End : 1\n",
      "Polish Hill : 1\n",
      "Point Breeze North : 1\n",
      "Squirrel Hill North : 1\n",
      "East Allegheny : 1\n"
     ]
    }
   ],
   "source": [
    "# create a dictionary to keep track of how many playgrounds are in each Pittsburgh neighborhood\n",
    "mydict = {}\n",
    "\n",
    "# iterate through rows of the dataframe\n",
    "for row in range(play[play.columns[0]].count()):\n",
    "    \n",
    "    # if this neighborhood is already in the dictionary, increment its value by 1\n",
    "    try:\n",
    "        x = mydict[play.iat[row, 7]]\n",
    "        mydict[play.iat[row, 7]] = mydict[play.iat[row, 7]] + 1\n",
    "    \n",
    "    # if not, add it to the dictionary with a value of 1\n",
    "    except:\n",
    "        mydict[play.iat[row, 7]] = 1\n",
    "\n",
    "# Print the total number of playgrounds in each neighborhood\n",
    "for i in mydict:\n",
    "    print(i, \":\", mydict[i])"
   ]
  },
  {
   "cell_type": "code",
   "execution_count": null,
   "metadata": {},
   "outputs": [],
   "source": []
  }
 ],
 "metadata": {
  "kernelspec": {
   "display_name": "Python 3",
   "language": "python",
   "name": "python3"
  },
  "language_info": {
   "codemirror_mode": {
    "name": "ipython",
    "version": 3
   },
   "file_extension": ".py",
   "mimetype": "text/x-python",
   "name": "python",
   "nbconvert_exporter": "python",
   "pygments_lexer": "ipython3",
   "version": "3.8.3"
  }
 },
 "nbformat": 4,
 "nbformat_minor": 4
}
