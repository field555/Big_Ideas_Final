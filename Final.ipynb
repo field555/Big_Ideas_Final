{
 "cells": [
  {
   "cell_type": "markdown",
   "metadata": {},
   "source": [
    "# Big Ideas Final Project\n",
    "\n",
    "## Introduction\n",
    "If neighborhoods could have a goal, it would be to provide a safe community where one can live peacefully with their family and friends. No one wants to be worried about whether their child will be safe walking down the street to a friend's house. Therefore, we believe the best neigborhood is the one that is the most **family-friendly**. We approached this judgement by examining three datasets that have a high impact on a family's quality of life in their neighborhood."
   ]
  },
  {
   "cell_type": "markdown",
   "metadata": {},
   "source": [
    "## The Metric: Family-Friendly\n",
    "Family-friendliness takes into consideration the needs of parents and children of all ages. Because of this, it's important for the \"best neighborhood\" to be extremely safe and have attractions that kids can take advantage of. We broke this down into three metrics:\n",
    "1. **Frequency of Police Arrests** based on the **Pittsburgh Police Arrest** dataset\n",
    "2. **Frequency of Firearm Seizures** based on the **Pittsburgh Police Firearm Seizures** dataset\n",
    "3. **Fun Level for Kids** based on the **City of Pittsburgh Playgrounds** dataset"
   ]
  },
  {
   "cell_type": "markdown",
   "metadata": {},
   "source": [
    "## The Best Neighborhood\n",
    "Combining these three metrics, the most family-friendly neighborhood is Troy Hill. It has:\n",
    "1. A very low arrest rate, with only 6 between 2016 and 2022\n",
    "2. ....\n",
    "3. A high playground to population ratio, with 2 playgrounds for only about 2,000 citizens"
   ]
  },
  {
   "cell_type": "markdown",
   "metadata": {},
   "source": [
    "## Conclusion"
   ]
  },
  {
   "cell_type": "markdown",
   "metadata": {},
   "source": [
    "#### Madison:\n",
    "The data-driven answer we came up with is very different from my favorite, as I have never even heard of Troy Hill. The reason for this difference is likely because of the metric we used. Neighborhoods that are the safest and most family-friendly are likely to be small and quiet, with a low population and not much going on. These types of neighborhoods aren't likely to appeal to college kids who typically prefer areas with a vibrant social life. The more action in an area, the more crime and fewer playgrounds there will be."
   ]
  },
    {
   "cell_type": "markdown",
   "metadata": {},
   "source": [
    "### Conclusion (Zac)\n",
    "For my particular dataset, Mt Oliver Neighborhood was the \"safest\" place to be with only 2 arrests between 2016 and 2022. That being said, I do think that places like Mt Oliver have a bit of an advantage because they are probably less populated than a place like East Allegheny for example. Using all three datasets, we determined that Troy Hill is the most Family-Friendly neighborhood, which is pretty in-line with my own dataset's findings as Troy Hill is in my top 5."
   ]
  },
  {
   "cell_type": "markdown",
   "metadata": {},
   "source": []
  },
  {
   "cell_type": "code",
   "execution_count": null,
   "metadata": {},
   "outputs": [],
   "source": []
  }
 ],
 "metadata": {
  "kernelspec": {
   "display_name": "Python 3",
   "language": "python",
   "name": "python3"
  },
  "language_info": {
   "codemirror_mode": {
    "name": "ipython",
    "version": 3
   },
   "file_extension": ".py",
   "mimetype": "text/x-python",
   "name": "python",
   "nbconvert_exporter": "python",
   "pygments_lexer": "ipython3",
   "version": "3.8.3"
  }
 },
 "nbformat": 4,
 "nbformat_minor": 4
}
